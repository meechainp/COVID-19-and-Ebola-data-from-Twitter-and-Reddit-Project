{
 "cells": [
  {
   "cell_type": "markdown",
   "metadata": {},
   "source": [
    "## Cleaning data ข้อมูลที่มาจาก Twitter ##"
   ]
  },
  {
   "cell_type": "code",
   "execution_count": 1,
   "metadata": {},
   "outputs": [],
   "source": [
    "import pandas as pd"
   ]
  },
  {
   "cell_type": "code",
   "execution_count": 2,
   "metadata": {},
   "outputs": [],
   "source": [
    "# open file\n",
    "df_covid_th = pd.read_excel('D:/my_data/covid19_th.xlsx')\n",
    "df_covid_en = pd.read_excel('D:/my_data/covid19_en.xlsx')\n",
    "df_ebola_en    = pd.read_excel('D:/my_data/ebola_en.xlsx')"
   ]
  },
  {
   "cell_type": "markdown",
   "metadata": {},
   "source": [
    "### เช็คข้อมูล ###"
   ]
  },
  {
   "cell_type": "code",
   "execution_count": 3,
   "metadata": {
    "scrolled": true
   },
   "outputs": [
    {
     "name": "stdout",
     "output_type": "stream",
     "text": [
      "<class 'pandas.core.frame.DataFrame'>\n",
      "RangeIndex: 2000 entries, 0 to 1999\n",
      "Data columns (total 8 columns):\n",
      "Id                 2000 non-null int64\n",
      "username           2000 non-null object\n",
      "location           1275 non-null object\n",
      "time_stamp         2000 non-null datetime64[ns]\n",
      "text               2000 non-null object\n",
      "followers_count    2000 non-null int64\n",
      "retweet_count      2000 non-null int64\n",
      "favorite_count     2000 non-null int64\n",
      "dtypes: datetime64[ns](1), int64(4), object(3)\n",
      "memory usage: 125.1+ KB\n"
     ]
    }
   ],
   "source": [
    "df_covid_th.info()"
   ]
  },
  {
   "cell_type": "code",
   "execution_count": 4,
   "metadata": {
    "scrolled": false
   },
   "outputs": [
    {
     "name": "stdout",
     "output_type": "stream",
     "text": [
      "<class 'pandas.core.frame.DataFrame'>\n",
      "RangeIndex: 2000 entries, 0 to 1999\n",
      "Data columns (total 8 columns):\n",
      "Id                 2000 non-null int64\n",
      "username           2000 non-null object\n",
      "location           1639 non-null object\n",
      "time_stamp         2000 non-null datetime64[ns]\n",
      "text               2000 non-null object\n",
      "followers_count    2000 non-null int64\n",
      "retweet_count      2000 non-null int64\n",
      "favorite_count     2000 non-null int64\n",
      "dtypes: datetime64[ns](1), int64(4), object(3)\n",
      "memory usage: 125.1+ KB\n"
     ]
    }
   ],
   "source": [
    "df_covid_en.info()"
   ]
  },
  {
   "cell_type": "code",
   "execution_count": 5,
   "metadata": {
    "scrolled": true
   },
   "outputs": [
    {
     "name": "stdout",
     "output_type": "stream",
     "text": [
      "<class 'pandas.core.frame.DataFrame'>\n",
      "RangeIndex: 2000 entries, 0 to 1999\n",
      "Data columns (total 8 columns):\n",
      "Id                 2000 non-null int64\n",
      "username           2000 non-null object\n",
      "location           1587 non-null object\n",
      "time_stamp         2000 non-null datetime64[ns]\n",
      "text               2000 non-null object\n",
      "followers_count    2000 non-null int64\n",
      "retweet_count      2000 non-null int64\n",
      "favorite_count     2000 non-null int64\n",
      "dtypes: datetime64[ns](1), int64(4), object(3)\n",
      "memory usage: 125.1+ KB\n"
     ]
    }
   ],
   "source": [
    "df_ebola_en.info()"
   ]
  },
  {
   "cell_type": "markdown",
   "metadata": {},
   "source": [
    "### จะเห็นได้ว่า column location มี missing value ###\n",
    "* ส่วน column location ของ df_covid_th ทำการสมมติค่าให้เป็น Thailand ทั้งหมด เพราะทำการสมมติให้เป็นการ tweet จากประเทศไทยทั้งหมด\n",
    "* ส่วน column location ของ df_covid_en , df_ebola_en เราจะทำการลบ row ที่มีค่า NAN ทิ้ง เพราะไม่สามารถสมมติได้ว่าจะให้เป็นเมืองหรือประเทศใด"
   ]
  },
  {
   "cell_type": "code",
   "execution_count": 6,
   "metadata": {},
   "outputs": [],
   "source": [
    "df_covid_th.location = 'Thailand'\n",
    "df_covid_en = df_covid_en.dropna()\n",
    "df_ebola_en = df_ebola_en.dropna()"
   ]
  },
  {
   "cell_type": "markdown",
   "metadata": {},
   "source": [
    "#### ทำการตรวจสอบข้อมูลอีกรอบ ####"
   ]
  },
  {
   "cell_type": "code",
   "execution_count": 7,
   "metadata": {},
   "outputs": [
    {
     "name": "stdout",
     "output_type": "stream",
     "text": [
      "<class 'pandas.core.frame.DataFrame'>\n",
      "RangeIndex: 2000 entries, 0 to 1999\n",
      "Data columns (total 8 columns):\n",
      "Id                 2000 non-null int64\n",
      "username           2000 non-null object\n",
      "location           2000 non-null object\n",
      "time_stamp         2000 non-null datetime64[ns]\n",
      "text               2000 non-null object\n",
      "followers_count    2000 non-null int64\n",
      "retweet_count      2000 non-null int64\n",
      "favorite_count     2000 non-null int64\n",
      "dtypes: datetime64[ns](1), int64(4), object(3)\n",
      "memory usage: 125.1+ KB\n"
     ]
    }
   ],
   "source": [
    "df_covid_th.info()"
   ]
  },
  {
   "cell_type": "code",
   "execution_count": 8,
   "metadata": {},
   "outputs": [
    {
     "name": "stdout",
     "output_type": "stream",
     "text": [
      "<class 'pandas.core.frame.DataFrame'>\n",
      "Int64Index: 1639 entries, 1 to 1998\n",
      "Data columns (total 8 columns):\n",
      "Id                 1639 non-null int64\n",
      "username           1639 non-null object\n",
      "location           1639 non-null object\n",
      "time_stamp         1639 non-null datetime64[ns]\n",
      "text               1639 non-null object\n",
      "followers_count    1639 non-null int64\n",
      "retweet_count      1639 non-null int64\n",
      "favorite_count     1639 non-null int64\n",
      "dtypes: datetime64[ns](1), int64(4), object(3)\n",
      "memory usage: 115.2+ KB\n"
     ]
    }
   ],
   "source": [
    "df_covid_en.info()"
   ]
  },
  {
   "cell_type": "code",
   "execution_count": 9,
   "metadata": {},
   "outputs": [
    {
     "name": "stdout",
     "output_type": "stream",
     "text": [
      "<class 'pandas.core.frame.DataFrame'>\n",
      "Int64Index: 1587 entries, 0 to 1999\n",
      "Data columns (total 8 columns):\n",
      "Id                 1587 non-null int64\n",
      "username           1587 non-null object\n",
      "location           1587 non-null object\n",
      "time_stamp         1587 non-null datetime64[ns]\n",
      "text               1587 non-null object\n",
      "followers_count    1587 non-null int64\n",
      "retweet_count      1587 non-null int64\n",
      "favorite_count     1587 non-null int64\n",
      "dtypes: datetime64[ns](1), int64(4), object(3)\n",
      "memory usage: 111.6+ KB\n"
     ]
    }
   ],
   "source": [
    "df_ebola_en.info()"
   ]
  },
  {
   "cell_type": "markdown",
   "metadata": {},
   "source": [
    "### ทำการลบอักขระพิเศษ ใน column text ###\n"
   ]
  },
  {
   "cell_type": "code",
   "execution_count": 10,
   "metadata": {},
   "outputs": [
    {
     "data": {
      "text/html": [
       "<div>\n",
       "<style scoped>\n",
       "    .dataframe tbody tr th:only-of-type {\n",
       "        vertical-align: middle;\n",
       "    }\n",
       "\n",
       "    .dataframe tbody tr th {\n",
       "        vertical-align: top;\n",
       "    }\n",
       "\n",
       "    .dataframe thead th {\n",
       "        text-align: right;\n",
       "    }\n",
       "</style>\n",
       "<table border=\"1\" class=\"dataframe\">\n",
       "  <thead>\n",
       "    <tr style=\"text-align: right;\">\n",
       "      <th></th>\n",
       "      <th>Id</th>\n",
       "      <th>username</th>\n",
       "      <th>location</th>\n",
       "      <th>time_stamp</th>\n",
       "      <th>text</th>\n",
       "      <th>followers_count</th>\n",
       "      <th>retweet_count</th>\n",
       "      <th>favorite_count</th>\n",
       "    </tr>\n",
       "  </thead>\n",
       "  <tbody>\n",
       "    <tr>\n",
       "      <th>0</th>\n",
       "      <td>362503379</td>\n",
       "      <td>Purebloodsz</td>\n",
       "      <td>Thailand</td>\n",
       "      <td>2020-03-19 07:57:29</td>\n",
       "      <td>ว่าแต่เทรนเนอร์ที่ไหนเนี้ย แล้วก่อนหน้านี้เค้า...</td>\n",
       "      <td>38309</td>\n",
       "      <td>0</td>\n",
       "      <td>0</td>\n",
       "    </tr>\n",
       "    <tr>\n",
       "      <th>1</th>\n",
       "      <td>856823519107316992</td>\n",
       "      <td>proxumer</td>\n",
       "      <td>Thailand</td>\n",
       "      <td>2020-03-19 07:57:25</td>\n",
       "      <td>COVID -19 ไข้หวัด หรือภูมิแพ้ 😷 แต่เราสามารถ #...</td>\n",
       "      <td>5781</td>\n",
       "      <td>0</td>\n",
       "      <td>0</td>\n",
       "    </tr>\n",
       "    <tr>\n",
       "      <th>2</th>\n",
       "      <td>723891243340587008</td>\n",
       "      <td>whathcn</td>\n",
       "      <td>Thailand</td>\n",
       "      <td>2020-03-19 07:57:05</td>\n",
       "      <td>ขาย 📍📍📍📍📍 พึ่งสมัครวันนี้ค่ะ 19/3/63\\nแพ็กเกจ ...</td>\n",
       "      <td>0</td>\n",
       "      <td>0</td>\n",
       "      <td>0</td>\n",
       "    </tr>\n",
       "    <tr>\n",
       "      <th>3</th>\n",
       "      <td>1116699085166140032</td>\n",
       "      <td>sorkorlao</td>\n",
       "      <td>Thailand</td>\n",
       "      <td>2020-03-19 07:57:03</td>\n",
       "      <td>คนไทยค้องช่วยกัน \\n\\nอย่าหวังพึ่งพาลุง\\n\\n#โคว...</td>\n",
       "      <td>39917</td>\n",
       "      <td>0</td>\n",
       "      <td>0</td>\n",
       "    </tr>\n",
       "    <tr>\n",
       "      <th>4</th>\n",
       "      <td>2479547882</td>\n",
       "      <td>BrightTodayTh</td>\n",
       "      <td>Thailand</td>\n",
       "      <td>2020-03-19 07:56:56</td>\n",
       "      <td>สาธารณสุข แถลงสถานการณ์ โรคโควิด-19 วันที่ 19 ...</td>\n",
       "      <td>41058</td>\n",
       "      <td>1</td>\n",
       "      <td>0</td>\n",
       "    </tr>\n",
       "  </tbody>\n",
       "</table>\n",
       "</div>"
      ],
      "text/plain": [
       "                    Id       username  location          time_stamp  \\\n",
       "0            362503379    Purebloodsz  Thailand 2020-03-19 07:57:29   \n",
       "1   856823519107316992       proxumer  Thailand 2020-03-19 07:57:25   \n",
       "2   723891243340587008        whathcn  Thailand 2020-03-19 07:57:05   \n",
       "3  1116699085166140032      sorkorlao  Thailand 2020-03-19 07:57:03   \n",
       "4           2479547882  BrightTodayTh  Thailand 2020-03-19 07:56:56   \n",
       "\n",
       "                                                text  followers_count  \\\n",
       "0  ว่าแต่เทรนเนอร์ที่ไหนเนี้ย แล้วก่อนหน้านี้เค้า...            38309   \n",
       "1  COVID -19 ไข้หวัด หรือภูมิแพ้ 😷 แต่เราสามารถ #...             5781   \n",
       "2  ขาย 📍📍📍📍📍 พึ่งสมัครวันนี้ค่ะ 19/3/63\\nแพ็กเกจ ...                0   \n",
       "3  คนไทยค้องช่วยกัน \\n\\nอย่าหวังพึ่งพาลุง\\n\\n#โคว...            39917   \n",
       "4  สาธารณสุข แถลงสถานการณ์ โรคโควิด-19 วันที่ 19 ...            41058   \n",
       "\n",
       "   retweet_count  favorite_count  \n",
       "0              0               0  \n",
       "1              0               0  \n",
       "2              0               0  \n",
       "3              0               0  \n",
       "4              1               0  "
      ]
     },
     "execution_count": 10,
     "metadata": {},
     "output_type": "execute_result"
    }
   ],
   "source": [
    "df_covid_th.head()"
   ]
  },
  {
   "cell_type": "code",
   "execution_count": 11,
   "metadata": {},
   "outputs": [
    {
     "data": {
      "text/html": [
       "<div>\n",
       "<style scoped>\n",
       "    .dataframe tbody tr th:only-of-type {\n",
       "        vertical-align: middle;\n",
       "    }\n",
       "\n",
       "    .dataframe tbody tr th {\n",
       "        vertical-align: top;\n",
       "    }\n",
       "\n",
       "    .dataframe thead th {\n",
       "        text-align: right;\n",
       "    }\n",
       "</style>\n",
       "<table border=\"1\" class=\"dataframe\">\n",
       "  <thead>\n",
       "    <tr style=\"text-align: right;\">\n",
       "      <th></th>\n",
       "      <th>Id</th>\n",
       "      <th>username</th>\n",
       "      <th>location</th>\n",
       "      <th>time_stamp</th>\n",
       "      <th>text</th>\n",
       "      <th>followers_count</th>\n",
       "      <th>retweet_count</th>\n",
       "      <th>favorite_count</th>\n",
       "    </tr>\n",
       "  </thead>\n",
       "  <tbody>\n",
       "    <tr>\n",
       "      <th>1</th>\n",
       "      <td>2965655845</td>\n",
       "      <td>Fukkard</td>\n",
       "      <td>Hyderabad, India</td>\n",
       "      <td>2020-03-19 07:36:11</td>\n",
       "      <td>A word of caution from Mega Star Chiranjeevi g...</td>\n",
       "      <td>92184</td>\n",
       "      <td>0</td>\n",
       "      <td>0</td>\n",
       "    </tr>\n",
       "    <tr>\n",
       "      <th>2</th>\n",
       "      <td>31264880</td>\n",
       "      <td>AFNtelevision</td>\n",
       "      <td>March ARB, California</td>\n",
       "      <td>2020-03-19 07:36:11</td>\n",
       "      <td>“...because every red light eventually turns g...</td>\n",
       "      <td>4908</td>\n",
       "      <td>0</td>\n",
       "      <td>0</td>\n",
       "    </tr>\n",
       "    <tr>\n",
       "      <th>3</th>\n",
       "      <td>1182257542455539968</td>\n",
       "      <td>nukelda1</td>\n",
       "      <td>London, England</td>\n",
       "      <td>2020-03-19 07:36:09</td>\n",
       "      <td>Day 3 in quarantine #coronavirus #londonlockdo...</td>\n",
       "      <td>7</td>\n",
       "      <td>0</td>\n",
       "      <td>0</td>\n",
       "    </tr>\n",
       "    <tr>\n",
       "      <th>4</th>\n",
       "      <td>4732405876</td>\n",
       "      <td>sindaniv</td>\n",
       "      <td>Bungoma, Kenya</td>\n",
       "      <td>2020-03-19 07:36:09</td>\n",
       "      <td>When you experience high body temperatures, fe...</td>\n",
       "      <td>1453</td>\n",
       "      <td>0</td>\n",
       "      <td>0</td>\n",
       "    </tr>\n",
       "    <tr>\n",
       "      <th>6</th>\n",
       "      <td>28541686</td>\n",
       "      <td>DrAlexShehata</td>\n",
       "      <td>GVA | Cairo | NYC | Montclair</td>\n",
       "      <td>2020-03-19 07:36:07</td>\n",
       "      <td>Here a few ideas/observations I had about #COV...</td>\n",
       "      <td>758</td>\n",
       "      <td>0</td>\n",
       "      <td>0</td>\n",
       "    </tr>\n",
       "  </tbody>\n",
       "</table>\n",
       "</div>"
      ],
      "text/plain": [
       "                    Id       username                        location  \\\n",
       "1           2965655845        Fukkard                Hyderabad, India   \n",
       "2             31264880  AFNtelevision           March ARB, California   \n",
       "3  1182257542455539968       nukelda1                 London, England   \n",
       "4           4732405876       sindaniv                  Bungoma, Kenya   \n",
       "6             28541686  DrAlexShehata  GVA | Cairo | NYC | Montclair    \n",
       "\n",
       "           time_stamp                                               text  \\\n",
       "1 2020-03-19 07:36:11  A word of caution from Mega Star Chiranjeevi g...   \n",
       "2 2020-03-19 07:36:11  “...because every red light eventually turns g...   \n",
       "3 2020-03-19 07:36:09  Day 3 in quarantine #coronavirus #londonlockdo...   \n",
       "4 2020-03-19 07:36:09  When you experience high body temperatures, fe...   \n",
       "6 2020-03-19 07:36:07  Here a few ideas/observations I had about #COV...   \n",
       "\n",
       "   followers_count  retweet_count  favorite_count  \n",
       "1            92184              0               0  \n",
       "2             4908              0               0  \n",
       "3                7              0               0  \n",
       "4             1453              0               0  \n",
       "6              758              0               0  "
      ]
     },
     "execution_count": 11,
     "metadata": {},
     "output_type": "execute_result"
    }
   ],
   "source": [
    "df_covid_en.head()"
   ]
  },
  {
   "cell_type": "code",
   "execution_count": 12,
   "metadata": {
    "scrolled": true
   },
   "outputs": [
    {
     "data": {
      "text/html": [
       "<div>\n",
       "<style scoped>\n",
       "    .dataframe tbody tr th:only-of-type {\n",
       "        vertical-align: middle;\n",
       "    }\n",
       "\n",
       "    .dataframe tbody tr th {\n",
       "        vertical-align: top;\n",
       "    }\n",
       "\n",
       "    .dataframe thead th {\n",
       "        text-align: right;\n",
       "    }\n",
       "</style>\n",
       "<table border=\"1\" class=\"dataframe\">\n",
       "  <thead>\n",
       "    <tr style=\"text-align: right;\">\n",
       "      <th></th>\n",
       "      <th>Id</th>\n",
       "      <th>username</th>\n",
       "      <th>location</th>\n",
       "      <th>time_stamp</th>\n",
       "      <th>text</th>\n",
       "      <th>followers_count</th>\n",
       "      <th>retweet_count</th>\n",
       "      <th>favorite_count</th>\n",
       "    </tr>\n",
       "  </thead>\n",
       "  <tbody>\n",
       "    <tr>\n",
       "      <th>0</th>\n",
       "      <td>1024331753941619968</td>\n",
       "      <td>MDMEDICINE1</td>\n",
       "      <td>United Arab Emirates</td>\n",
       "      <td>2020-03-19 08:55:08</td>\n",
       "      <td>@WHO #pandemic expert @DrMikeRyan: “what we le...</td>\n",
       "      <td>47</td>\n",
       "      <td>1</td>\n",
       "      <td>1</td>\n",
       "    </tr>\n",
       "    <tr>\n",
       "      <th>1</th>\n",
       "      <td>853736260397084032</td>\n",
       "      <td>BeeNewsDaily</td>\n",
       "      <td>United States</td>\n",
       "      <td>2020-03-19 08:55:07</td>\n",
       "      <td>#KungFlu, #KungFuTea,  and #Ebola are not raci...</td>\n",
       "      <td>4161</td>\n",
       "      <td>1</td>\n",
       "      <td>1</td>\n",
       "    </tr>\n",
       "    <tr>\n",
       "      <th>2</th>\n",
       "      <td>1024331753941619968</td>\n",
       "      <td>MDMEDICINE1</td>\n",
       "      <td>United Arab Emirates</td>\n",
       "      <td>2020-03-19 08:45:31</td>\n",
       "      <td>@WHO #pandemic expert @DrMikeRyan: “What we le...</td>\n",
       "      <td>47</td>\n",
       "      <td>0</td>\n",
       "      <td>0</td>\n",
       "    </tr>\n",
       "    <tr>\n",
       "      <th>3</th>\n",
       "      <td>3402412635</td>\n",
       "      <td>ADFmagazine</td>\n",
       "      <td>Africa</td>\n",
       "      <td>2020-03-19 08:45:08</td>\n",
       "      <td>#SierraLeone President Bio engages members of ...</td>\n",
       "      <td>374</td>\n",
       "      <td>0</td>\n",
       "      <td>0</td>\n",
       "    </tr>\n",
       "    <tr>\n",
       "      <th>4</th>\n",
       "      <td>18754412</td>\n",
       "      <td>MacJordaN</td>\n",
       "      <td>ACC/YFB/YEG/SFO/NBO/YYZ</td>\n",
       "      <td>2020-03-19 08:43:18</td>\n",
       "      <td>Update from #Liberia 🇱🇷: \\n\\nThe country is ap...</td>\n",
       "      <td>16928</td>\n",
       "      <td>0</td>\n",
       "      <td>1</td>\n",
       "    </tr>\n",
       "  </tbody>\n",
       "</table>\n",
       "</div>"
      ],
      "text/plain": [
       "                    Id      username                 location  \\\n",
       "0  1024331753941619968   MDMEDICINE1     United Arab Emirates   \n",
       "1   853736260397084032  BeeNewsDaily            United States   \n",
       "2  1024331753941619968   MDMEDICINE1     United Arab Emirates   \n",
       "3           3402412635   ADFmagazine                   Africa   \n",
       "4             18754412     MacJordaN  ACC/YFB/YEG/SFO/NBO/YYZ   \n",
       "\n",
       "           time_stamp                                               text  \\\n",
       "0 2020-03-19 08:55:08  @WHO #pandemic expert @DrMikeRyan: “what we le...   \n",
       "1 2020-03-19 08:55:07  #KungFlu, #KungFuTea,  and #Ebola are not raci...   \n",
       "2 2020-03-19 08:45:31  @WHO #pandemic expert @DrMikeRyan: “What we le...   \n",
       "3 2020-03-19 08:45:08  #SierraLeone President Bio engages members of ...   \n",
       "4 2020-03-19 08:43:18  Update from #Liberia 🇱🇷: \\n\\nThe country is ap...   \n",
       "\n",
       "   followers_count  retweet_count  favorite_count  \n",
       "0               47              1               1  \n",
       "1             4161              1               1  \n",
       "2               47              0               0  \n",
       "3              374              0               0  \n",
       "4            16928              0               1  "
      ]
     },
     "execution_count": 12,
     "metadata": {},
     "output_type": "execute_result"
    }
   ],
   "source": [
    "df_ebola_en.head()"
   ]
  },
  {
   "cell_type": "markdown",
   "metadata": {},
   "source": [
    "### สร้างฟังก์ชัน ลบอักขระ ไอคอน สติ๊กเกอร์###"
   ]
  },
  {
   "cell_type": "code",
   "execution_count": 13,
   "metadata": {},
   "outputs": [],
   "source": [
    "import re\n",
    "import sys\n",
    "import string"
   ]
  },
  {
   "cell_type": "code",
   "execution_count": 14,
   "metadata": {},
   "outputs": [],
   "source": [
    "# function ลบ icon\n",
    "def remove_emoji(string):\n",
    "    emoji_pattern = re.compile(\"[\"\n",
    "                           u\"\\U0001F600-\\U0001F64F\"  # emoticons\n",
    "        u\"\\U0001F300-\\U0001F5FF\"  # symbols & pictographs\n",
    "        u\"\\U0001F680-\\U0001F6FF\"  # transport & map symbols\n",
    "        u\"\\U0001F1E0-\\U0001F1FF\"  # flags (iOS)\n",
    "        u\"\\U00002500-\\U00002BEF\"  # chinese char\n",
    "        u\"\\U00002702-\\U000027B0\"\n",
    "        u\"\\U00002702-\\U000027B0\"\n",
    "        u\"\\U000024C2-\\U0001F251\"\n",
    "        u\"\\U0001f926-\\U0001f937\"\n",
    "        u\"\\U00010000-\\U0010ffff\"\n",
    "        u\"\\u2640-\\u2642\" \n",
    "        u\"\\u2600-\\u2B55\"\n",
    "        u\"\\u200d\"\n",
    "        u\"\\u23cf\"\n",
    "        u\"\\u23e9\"\n",
    "        u\"\\u231a\"\n",
    "        u\"\\ufe0f\"  # dingbats\n",
    "        u\"\\u3030\"\n",
    "                           \"]+\", flags=re.UNICODE)\n",
    "    return emoji_pattern.sub(r'', string)\n"
   ]
  },
  {
   "cell_type": "code",
   "execution_count": 15,
   "metadata": {},
   "outputs": [],
   "source": [
    "# สร้าง function เพื่อลบอักขระต่างๆ\n",
    "def remove_punct(text):\n",
    "    text  = \"\".join([char for char in text if char not in string.punctuation])\n",
    "    text = re.sub('[0-9]+', '', text)\n",
    "    return text"
   ]
  },
  {
   "cell_type": "code",
   "execution_count": 16,
   "metadata": {},
   "outputs": [],
   "source": [
    "# ลบ URL\n",
    "df_covid_th.text = df_covid_th.text.replace(r'http\\S+', '', regex=True).replace(r'www\\S+', '', regex=True)\n",
    "df_covid_en.text = df_covid_en.text.replace(r'http\\S+', '', regex=True).replace(r'www\\S+', '', regex=True)\n",
    "df_ebola_en.text = df_ebola_en.text.replace(r'http\\S+', '', regex=True).replace(r'www\\S+', '', regex=True)"
   ]
  },
  {
   "cell_type": "code",
   "execution_count": 17,
   "metadata": {},
   "outputs": [],
   "source": [
    " #ลบ icon\n",
    "df_covid_th.text = df_covid_th.text.apply(lambda x : remove_emoji(x))\n",
    "df_covid_en.text = df_covid_en.text.apply(lambda x : remove_emoji(x))\n",
    "df_ebola_en.text = df_ebola_en.text.apply(lambda x : remove_emoji(x))\n"
   ]
  },
  {
   "cell_type": "code",
   "execution_count": 18,
   "metadata": {},
   "outputs": [],
   "source": [
    "#ลบ อักขระ\n",
    "df_covid_th.text = df_covid_th.text.apply(lambda x : remove_punct(x)) \n",
    "df_covid_en.text = df_covid_en.text.apply(lambda x : remove_punct(x))  \n",
    "df_ebola_en.text = df_ebola_en.text.apply(lambda x : remove_punct(x))"
   ]
  },
  {
   "cell_type": "code",
   "execution_count": 19,
   "metadata": {},
   "outputs": [],
   "source": [
    "# ลบเครื่องหมาย เพิ่มเติมจากฟังก์ชัน\n",
    "df_covid_th.text = df_covid_th.text.str.replace('\\n','').str.replace('\\n\\n','').str.replace('\\n\\n\\n','').str.replace('฿','').str.replace('🇱🇷 ','').str.replace('\\u200b','')\n",
    "df_covid_en.text = df_covid_en.text.str.replace('\\n','').str.replace('\\n\\n','').str.replace('\\n\\n\\n','').str.replace('฿','').str.replace('🇱🇷 ','').str.replace('\\u200b','')\n",
    "df_ebola_en.text = df_ebola_en.text.str.replace('\\n','').str.replace('\\n\\n','').str.replace('\\n\\n\\n','').str.replace('฿','').str.replace('🇱🇷 ','').str.replace('\\u200b','')"
   ]
  },
  {
   "cell_type": "code",
   "execution_count": 20,
   "metadata": {},
   "outputs": [],
   "source": [
    "# ลบเครื่องหมายคำพูด\n",
    "df_covid_th.text = df_covid_th.text.str.replace('“','').str.replace('”','')\n",
    "df_covid_en.text = df_covid_en.text.str.replace('“','').str.replace('”','')\n",
    "df_ebola_en.text = df_ebola_en.text.str.replace('“','').str.replace('”','')"
   ]
  },
  {
   "cell_type": "markdown",
   "metadata": {},
   "source": [
    "* ลองตรวจสอบข้อมูลอีกรอบ"
   ]
  },
  {
   "cell_type": "code",
   "execution_count": 21,
   "metadata": {},
   "outputs": [
    {
     "data": {
      "text/plain": [
       "0    ว่าแต่เทรนเนอร์ที่ไหนเนี้ย แล้วก่อนหน้านี้เค้า...\n",
       "1    COVID  ไข้หวัด หรือภูมิแพ้  แต่เราสามารถ เช็กอ...\n",
       "2    ขาย  พึ่งสมัครวันนี้ค่ะ แพ็กเกจ   เดือนค่ะ ขาย...\n",
       "3    คนไทยค้องช่วยกัน อย่าหวังพึ่งพาลุงโควิท โควิด ...\n",
       "4    สาธารณสุข แถลงสถานการณ์ โรคโควิด วันที่  มีค พ...\n",
       "Name: text, dtype: object"
      ]
     },
     "execution_count": 21,
     "metadata": {},
     "output_type": "execute_result"
    }
   ],
   "source": [
    "df_covid_th.text.head()"
   ]
  },
  {
   "cell_type": "code",
   "execution_count": 22,
   "metadata": {
    "scrolled": false
   },
   "outputs": [
    {
     "data": {
      "text/plain": [
       "0    ว่าแต่เทรนเนอร์ที่ไหนเนี้ย แล้วก่อนหน้านี้เค้า...\n",
       "1    COVID  ไข้หวัด หรือภูมิแพ้  แต่เราสามารถ เช็กอ...\n",
       "2    ขาย  พึ่งสมัครวันนี้ค่ะ แพ็กเกจ   เดือนค่ะ ขาย...\n",
       "3    คนไทยค้องช่วยกัน อย่าหวังพึ่งพาลุงโควิท โควิด ...\n",
       "4    สาธารณสุข แถลงสถานการณ์ โรคโควิด วันที่  มีค พ...\n",
       "Name: text, dtype: object"
      ]
     },
     "execution_count": 22,
     "metadata": {},
     "output_type": "execute_result"
    }
   ],
   "source": [
    "df_covid_th.text.head()"
   ]
  },
  {
   "cell_type": "markdown",
   "metadata": {},
   "source": [
    "### ทำการ export ลงเครื่อง ###"
   ]
  },
  {
   "cell_type": "code",
   "execution_count": 23,
   "metadata": {},
   "outputs": [],
   "source": [
    "df_covid_th.to_excel(r'D:\\my_data\\clean\\twitter_covid_th_cleaned.xlsx', encoding='utf-8-sig', index = False)\n",
    "df_covid_en.to_excel(r'D:\\my_data\\clean\\twitter_covid_en_cleaned.xlsx', encoding='utf-8-sig', index = False)\n",
    "df_ebola_en.to_excel(r'D:\\my_data\\clean\\twitter_ebola_en_cleaned.xlsx', encoding='utf-8-sig', index = False)"
   ]
  },
  {
   "cell_type": "code",
   "execution_count": null,
   "metadata": {},
   "outputs": [],
   "source": []
  }
 ],
 "metadata": {
  "kernelspec": {
   "display_name": "Python 3",
   "language": "python",
   "name": "python3"
  },
  "language_info": {
   "codemirror_mode": {
    "name": "ipython",
    "version": 3
   },
   "file_extension": ".py",
   "mimetype": "text/x-python",
   "name": "python",
   "nbconvert_exporter": "python",
   "pygments_lexer": "ipython3",
   "version": "3.7.3"
  }
 },
 "nbformat": 4,
 "nbformat_minor": 2
}
