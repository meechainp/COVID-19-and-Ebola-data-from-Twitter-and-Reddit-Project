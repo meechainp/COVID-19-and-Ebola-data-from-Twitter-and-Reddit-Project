{
 "cells": [
  {
   "cell_type": "markdown",
   "metadata": {},
   "source": [
    "# Query ข้อมูลโรคต่างๆ จาก Reddit#"
   ]
  },
  {
   "cell_type": "code",
   "execution_count": 2,
   "metadata": {
    "scrolled": true
   },
   "outputs": [
    {
     "name": "stdout",
     "output_type": "stream",
     "text": [
      "Collecting praw\n",
      "  Downloading https://files.pythonhosted.org/packages/25/c0/b9714b4fb164368843b41482a3cac11938021871adf99bf5aaa3980b0182/praw-6.5.1-py3-none-any.whl (134kB)\n",
      "Collecting prawcore<2.0,>=1.0.1 (from praw)\n",
      "  Downloading https://files.pythonhosted.org/packages/76/b5/ce6282dea45cba6f08a30e25d18e0f3d33277e2c9fcbda75644b8dc0089b/prawcore-1.0.1-py2.py3-none-any.whl\n",
      "Collecting websocket-client>=0.54.0 (from praw)\n",
      "  Downloading https://files.pythonhosted.org/packages/4c/5f/f61b420143ed1c8dc69f9eaec5ff1ac36109d52c80de49d66e0c36c3dfdf/websocket_client-0.57.0-py2.py3-none-any.whl (200kB)\n",
      "Collecting update-checker>=0.16 (from praw)\n",
      "  Downloading https://files.pythonhosted.org/packages/17/c9/ab11855af164d03be0ff4fddd4c46a5bd44799a9ecc1770e01a669c21168/update_checker-0.16-py2.py3-none-any.whl\n",
      "Requirement already satisfied: requests<3.0,>=2.6.0 in c:\\users\\meech\\appdata\\local\\continuum\\anaconda3\\lib\\site-packages (from prawcore<2.0,>=1.0.1->praw) (2.22.0)\n",
      "Requirement already satisfied: six in c:\\users\\meech\\appdata\\local\\continuum\\anaconda3\\lib\\site-packages (from websocket-client>=0.54.0->praw) (1.12.0)\n",
      "Requirement already satisfied: idna<2.9,>=2.5 in c:\\users\\meech\\appdata\\local\\continuum\\anaconda3\\lib\\site-packages (from requests<3.0,>=2.6.0->prawcore<2.0,>=1.0.1->praw) (2.8)\n",
      "Requirement already satisfied: certifi>=2017.4.17 in c:\\users\\meech\\appdata\\local\\continuum\\anaconda3\\lib\\site-packages (from requests<3.0,>=2.6.0->prawcore<2.0,>=1.0.1->praw) (2019.6.16)\n",
      "Requirement already satisfied: chardet<3.1.0,>=3.0.2 in c:\\users\\meech\\appdata\\local\\continuum\\anaconda3\\lib\\site-packages (from requests<3.0,>=2.6.0->prawcore<2.0,>=1.0.1->praw) (3.0.4)\n",
      "Requirement already satisfied: urllib3!=1.25.0,!=1.25.1,<1.26,>=1.21.1 in c:\\users\\meech\\appdata\\local\\continuum\\anaconda3\\lib\\site-packages (from requests<3.0,>=2.6.0->prawcore<2.0,>=1.0.1->praw) (1.24.2)\n",
      "Installing collected packages: prawcore, websocket-client, update-checker, praw\n",
      "Successfully installed praw-6.5.1 prawcore-1.0.1 update-checker-0.16 websocket-client-0.57.0\n",
      "Note: you may need to restart the kernel to use updated packages.\n"
     ]
    }
   ],
   "source": [
    "pip install praw"
   ]
  },
  {
   "cell_type": "code",
   "execution_count": 2,
   "metadata": {},
   "outputs": [],
   "source": [
    "import praw\n",
    "import pandas as pd\n",
    "import datetime as dt"
   ]
  },
  {
   "cell_type": "markdown",
   "metadata": {},
   "source": [
    "* ข้อมูลเพื่อเข้า API ของ Reddit\n",
    "    * client_id      = ''\n",
    "    * client_secret  = '' \n",
    "    * user_agent     = '' \n",
    "    * username       = '' \n",
    "    * password       = ''"
   ]
  },
  {
   "cell_type": "code",
   "execution_count": null,
   "metadata": {},
   "outputs": [],
   "source": [
    "# ใส่ข้อมูลเพื่อเข้า API ของ Reddit\n",
    "reddit = praw.Reddit(client_id='', \n",
    "                     client_secret='', \n",
    "                     user_agent='', \n",
    "                     username='', \n",
    "                     password='')"
   ]
  },
  {
   "cell_type": "markdown",
   "metadata": {},
   "source": [
    "### สร้าง fuction เพื่อเอาไว้ เปลี่ยนเวลา แบบ Unix time ให้เป็นวันเวลา แบบมาตรฐาน ###\n",
    "* unix time คือมาตรฐานเวลาที่ถูกนับเริ่มมาตั้งแต่วันที่ 1 มกราคม ค.ศ.1970 โดยถูกนับเพิ่มเรื่อยมาทุกๆวินาที ดังนั้นเวลา unix time ก็คือจำนวนวินาทีที่นับมาตั้งแต่ 1 มกราคม ค.ศ.1970 นั่นเอง และยังคงนับต่อไป\n",
    "* ดูเวลา Unix time ในปัจจุันได้ที่ : http://service.meewebfree.com/php/unixtime"
   ]
  },
  {
   "cell_type": "code",
   "execution_count": 4,
   "metadata": {},
   "outputs": [],
   "source": [
    "# function เปลี่ยนแปลง Unix time\n",
    "def change_date(created):\n",
    "    return dt.datetime.fromtimestamp(created)"
   ]
  },
  {
   "cell_type": "markdown",
   "metadata": {},
   "source": [
    "### สร้าง function เพื่อค้นหา กระทู้ ###"
   ]
  },
  {
   "cell_type": "code",
   "execution_count": 5,
   "metadata": {},
   "outputs": [],
   "source": [
    "def search_reddit(topics, number):  #input topics(type string): หัวข้อกระทู้ที่จะค้นหา and number(integer type ) จำนวนข้อมูลที่ต้องการ\n",
    "    \n",
    "    subreddit = reddit.subreddit(topics)  #กำหนดหัวข้อกระทู้\n",
    "    top_subreddit = subreddit.top(limit=number)   #ดึง top ของกระทู้นั้นๆ และ กำหนด limitที่ต้องการ\n",
    "    \n",
    "    \n",
    "    # สร้าง Data dict เอาไว้เก็บค่าจากกระทู้ที่ค้นหา key : ชื่อ column, value : list\n",
    "    topics_dict = { \"title\":[], \"score\":[], \"id\":[], \"url\":[],\"comms_num\": [], \"created\": [],\"body\":[]}\n",
    "    \n",
    "    # ใช้ loop for เพื่อทำการดึงข้อมูล ไปเก็บใน Data dict ที่สร้างไว้ข้างบน\n",
    "    for submission in top_subreddit:\n",
    "        topics_dict[\"title\"].append(submission.title)\n",
    "        topics_dict[\"score\"].append(submission.score)\n",
    "        topics_dict[\"id\"].append(submission.id)\n",
    "        topics_dict[\"url\"].append(submission.url)\n",
    "        topics_dict[\"comms_num\"].append(submission.num_comments)\n",
    "        topics_dict[\"created\"].append(submission.created)\n",
    "        topics_dict[\"body\"].append(submission.selftext)\n",
    "    \n",
    "    \n",
    "    # นำ Data dict มาสร้างเป็น DataFrame\n",
    "    topics_data = pd.DataFrame(topics_dict)\n",
    "    \n",
    "    \n",
    "    '''\n",
    "        ทำการดึงเอา Unix time ในแต่ละ row ของ column created มาแปลงค่าให้เป็น วันเวลา แบบปกติ\n",
    "    โดย apply จาก function change_date ที่สร้างไว้ด้านบน\n",
    "    \n",
    "    '''\n",
    "    new_time = topics_data.created.apply(change_date)\n",
    "    \n",
    "    # ทำการเพิ่ม column timestamp\n",
    "    topics_data = topics_data.assign(timestamp = new_time)\n",
    "    \n",
    "    topics_data = topics_data.drop(['created'], axis=1)\n",
    "    \n",
    "    \n",
    "\n",
    "    #ส่ง Dataframe\n",
    "    return topics_data"
   ]
  },
  {
   "cell_type": "markdown",
   "metadata": {},
   "source": [
    "#### ทำการค้นหา hashtag และ export ข้อมูลลงเครื่อง ####"
   ]
  },
  {
   "cell_type": "markdown",
   "metadata": {},
   "source": [
    "### Covid19 ###"
   ]
  },
  {
   "cell_type": "code",
   "execution_count": 65,
   "metadata": {},
   "outputs": [],
   "source": [
    "reddit_covid19 = search_reddit(\"COVID19\", 2000)"
   ]
  },
  {
   "cell_type": "code",
   "execution_count": 66,
   "metadata": {},
   "outputs": [],
   "source": [
    "reddit_covid19.to_excel(r'D:\\my_data\\reddit_covid19.xlsx', encoding='utf-8-sig', index = False)"
   ]
  },
  {
   "cell_type": "code",
   "execution_count": 67,
   "metadata": {},
   "outputs": [
    {
     "data": {
      "text/html": [
       "<div>\n",
       "<style scoped>\n",
       "    .dataframe tbody tr th:only-of-type {\n",
       "        vertical-align: middle;\n",
       "    }\n",
       "\n",
       "    .dataframe tbody tr th {\n",
       "        vertical-align: top;\n",
       "    }\n",
       "\n",
       "    .dataframe thead th {\n",
       "        text-align: right;\n",
       "    }\n",
       "</style>\n",
       "<table border=\"1\" class=\"dataframe\">\n",
       "  <thead>\n",
       "    <tr style=\"text-align: right;\">\n",
       "      <th></th>\n",
       "      <th>title</th>\n",
       "      <th>score</th>\n",
       "      <th>id</th>\n",
       "      <th>url</th>\n",
       "      <th>comms_num</th>\n",
       "      <th>body</th>\n",
       "      <th>timestamp</th>\n",
       "    </tr>\n",
       "  </thead>\n",
       "  <tbody>\n",
       "    <tr>\n",
       "      <th>0</th>\n",
       "      <td>Please consider downloading BOINC or folding@h...</td>\n",
       "      <td>2391</td>\n",
       "      <td>fd29vj</td>\n",
       "      <td>https://www.reddit.com/r/COVID19/comments/fd29...</td>\n",
       "      <td>1047</td>\n",
       "      <td>Hello all.\\n\\nI believe this has been posted b...</td>\n",
       "      <td>2020-03-04 12:56:00</td>\n",
       "    </tr>\n",
       "    <tr>\n",
       "      <th>1</th>\n",
       "      <td>CDC recommends cancelling or postponing all pu...</td>\n",
       "      <td>2184</td>\n",
       "      <td>fjbv0q</td>\n",
       "      <td>https://www.cdc.gov/coronavirus/2019-ncov/comm...</td>\n",
       "      <td>444</td>\n",
       "      <td></td>\n",
       "      <td>2020-03-16 15:35:33</td>\n",
       "    </tr>\n",
       "    <tr>\n",
       "      <th>2</th>\n",
       "      <td>“We were able to ascertain that patients who h...</td>\n",
       "      <td>1998</td>\n",
       "      <td>fkizd0</td>\n",
       "      <td>https://www.mediterranee-infection.com/wp-cont...</td>\n",
       "      <td>442</td>\n",
       "      <td></td>\n",
       "      <td>2020-03-18 18:33:00</td>\n",
       "    </tr>\n",
       "    <tr>\n",
       "      <th>3</th>\n",
       "      <td>Data from SARS outbreak showed that mask weari...</td>\n",
       "      <td>1795</td>\n",
       "      <td>ffy8av</td>\n",
       "      <td>https://www.cochranelibrary.com/cdsr/doi/10.10...</td>\n",
       "      <td>476</td>\n",
       "      <td></td>\n",
       "      <td>2020-03-10 08:26:30</td>\n",
       "    </tr>\n",
       "    <tr>\n",
       "      <th>4</th>\n",
       "      <td>Relationship between the ABO Blood Group and t...</td>\n",
       "      <td>1734</td>\n",
       "      <td>fjzjpc</td>\n",
       "      <td>https://www.medrxiv.org/content/10.1101/2020.0...</td>\n",
       "      <td>407</td>\n",
       "      <td></td>\n",
       "      <td>2020-03-17 20:05:45</td>\n",
       "    </tr>\n",
       "  </tbody>\n",
       "</table>\n",
       "</div>"
      ],
      "text/plain": [
       "                                               title  score      id  \\\n",
       "0  Please consider downloading BOINC or folding@h...   2391  fd29vj   \n",
       "1  CDC recommends cancelling or postponing all pu...   2184  fjbv0q   \n",
       "2  “We were able to ascertain that patients who h...   1998  fkizd0   \n",
       "3  Data from SARS outbreak showed that mask weari...   1795  ffy8av   \n",
       "4  Relationship between the ABO Blood Group and t...   1734  fjzjpc   \n",
       "\n",
       "                                                 url  comms_num  \\\n",
       "0  https://www.reddit.com/r/COVID19/comments/fd29...       1047   \n",
       "1  https://www.cdc.gov/coronavirus/2019-ncov/comm...        444   \n",
       "2  https://www.mediterranee-infection.com/wp-cont...        442   \n",
       "3  https://www.cochranelibrary.com/cdsr/doi/10.10...        476   \n",
       "4  https://www.medrxiv.org/content/10.1101/2020.0...        407   \n",
       "\n",
       "                                                body           timestamp  \n",
       "0  Hello all.\\n\\nI believe this has been posted b... 2020-03-04 12:56:00  \n",
       "1                                                    2020-03-16 15:35:33  \n",
       "2                                                    2020-03-18 18:33:00  \n",
       "3                                                    2020-03-10 08:26:30  \n",
       "4                                                    2020-03-17 20:05:45  "
      ]
     },
     "execution_count": 67,
     "metadata": {},
     "output_type": "execute_result"
    }
   ],
   "source": [
    "reddit_covid19.head()"
   ]
  },
  {
   "cell_type": "markdown",
   "metadata": {},
   "source": [
    "### ebola ###"
   ]
  },
  {
   "cell_type": "code",
   "execution_count": 6,
   "metadata": {},
   "outputs": [],
   "source": [
    "reddit_ebola = search_reddit(\"Ebola\", 2000)"
   ]
  },
  {
   "cell_type": "code",
   "execution_count": 7,
   "metadata": {},
   "outputs": [],
   "source": [
    "reddit_ebola.to_excel(r'D:\\my_data\\reddit_ebola.xlsx', encoding='utf-8-sig', index = False)"
   ]
  },
  {
   "cell_type": "code",
   "execution_count": 8,
   "metadata": {
    "scrolled": true
   },
   "outputs": [
    {
     "data": {
      "text/html": [
       "<div>\n",
       "<style scoped>\n",
       "    .dataframe tbody tr th:only-of-type {\n",
       "        vertical-align: middle;\n",
       "    }\n",
       "\n",
       "    .dataframe tbody tr th {\n",
       "        vertical-align: top;\n",
       "    }\n",
       "\n",
       "    .dataframe thead th {\n",
       "        text-align: right;\n",
       "    }\n",
       "</style>\n",
       "<table border=\"1\" class=\"dataframe\">\n",
       "  <thead>\n",
       "    <tr style=\"text-align: right;\">\n",
       "      <th></th>\n",
       "      <th>title</th>\n",
       "      <th>score</th>\n",
       "      <th>id</th>\n",
       "      <th>url</th>\n",
       "      <th>comms_num</th>\n",
       "      <th>body</th>\n",
       "      <th>timestamp</th>\n",
       "    </tr>\n",
       "  </thead>\n",
       "  <tbody>\n",
       "    <tr>\n",
       "      <th>0</th>\n",
       "      <td>I met 25-year-old Moses Massaquoi today. He's ...</td>\n",
       "      <td>1957</td>\n",
       "      <td>2jg459</td>\n",
       "      <td>http://i.imgur.com/kLhaux5.jpg</td>\n",
       "      <td>129</td>\n",
       "      <td></td>\n",
       "      <td>2014-10-17 10:43:08</td>\n",
       "    </tr>\n",
       "    <tr>\n",
       "      <th>1</th>\n",
       "      <td>Ebola survivor Christopher, 43, washes blue pa...</td>\n",
       "      <td>1738</td>\n",
       "      <td>2jii6m</td>\n",
       "      <td>http://i.imgur.com/eEhQPJu.jpg</td>\n",
       "      <td>91</td>\n",
       "      <td></td>\n",
       "      <td>2014-10-18 04:12:32</td>\n",
       "    </tr>\n",
       "    <tr>\n",
       "      <th>2</th>\n",
       "      <td>Yesterday I showed you the ebola kit on our IC...</td>\n",
       "      <td>1296</td>\n",
       "      <td>2jeilp</td>\n",
       "      <td>http://imgur.com/a/ZQWR4</td>\n",
       "      <td>493</td>\n",
       "      <td></td>\n",
       "      <td>2014-10-17 00:05:01</td>\n",
       "    </tr>\n",
       "    <tr>\n",
       "      <th>3</th>\n",
       "      <td>outside an Ebola hospital, guy pulls a mattres...</td>\n",
       "      <td>997</td>\n",
       "      <td>2j7j4s</td>\n",
       "      <td>http://i.imgur.com/19857Nm.jpg</td>\n",
       "      <td>251</td>\n",
       "      <td></td>\n",
       "      <td>2014-10-15 02:59:30</td>\n",
       "    </tr>\n",
       "    <tr>\n",
       "      <th>4</th>\n",
       "      <td>NYC Doctor tests positive for ebola</td>\n",
       "      <td>746</td>\n",
       "      <td>2k5fkp</td>\n",
       "      <td>http://www.nytimes.com/2014/10/24/nyregion/cra...</td>\n",
       "      <td>822</td>\n",
       "      <td></td>\n",
       "      <td>2014-10-24 15:30:47</td>\n",
       "    </tr>\n",
       "  </tbody>\n",
       "</table>\n",
       "</div>"
      ],
      "text/plain": [
       "                                               title  score      id  \\\n",
       "0  I met 25-year-old Moses Massaquoi today. He's ...   1957  2jg459   \n",
       "1  Ebola survivor Christopher, 43, washes blue pa...   1738  2jii6m   \n",
       "2  Yesterday I showed you the ebola kit on our IC...   1296  2jeilp   \n",
       "3  outside an Ebola hospital, guy pulls a mattres...    997  2j7j4s   \n",
       "4                NYC Doctor tests positive for ebola    746  2k5fkp   \n",
       "\n",
       "                                                 url  comms_num body  \\\n",
       "0                     http://i.imgur.com/kLhaux5.jpg        129        \n",
       "1                     http://i.imgur.com/eEhQPJu.jpg         91        \n",
       "2                           http://imgur.com/a/ZQWR4        493        \n",
       "3                     http://i.imgur.com/19857Nm.jpg        251        \n",
       "4  http://www.nytimes.com/2014/10/24/nyregion/cra...        822        \n",
       "\n",
       "            timestamp  \n",
       "0 2014-10-17 10:43:08  \n",
       "1 2014-10-18 04:12:32  \n",
       "2 2014-10-17 00:05:01  \n",
       "3 2014-10-15 02:59:30  \n",
       "4 2014-10-24 15:30:47  "
      ]
     },
     "execution_count": 8,
     "metadata": {},
     "output_type": "execute_result"
    }
   ],
   "source": [
    "reddit_ebola.head()"
   ]
  },
  {
   "cell_type": "code",
   "execution_count": 9,
   "metadata": {},
   "outputs": [
    {
     "data": {
      "text/plain": [
       "(1000, 7)"
      ]
     },
     "execution_count": 9,
     "metadata": {},
     "output_type": "execute_result"
    }
   ],
   "source": [
    "reddit_ebola.shape"
   ]
  },
  {
   "cell_type": "code",
   "execution_count": 10,
   "metadata": {},
   "outputs": [
    {
     "name": "stderr",
     "output_type": "stream",
     "text": [
      "C:\\Users\\meech\\AppData\\Local\\Continuum\\anaconda3\\lib\\site-packages\\xlsxwriter\\worksheet.py:915: UserWarning: Ignoring URL 'https://www.google.com/url?sa=t&rct=j&q=&esrc=s&source=newssearch&cd=1&cad=rja&uact=8&ved=0CB0QqQIoADAA&url=http%3A%2F%2Ffox13now.com%2F2014%2F10%2F03%2Fprimary-childrens-hospital-confirms-patient-does-not-have-ebola%2F&ei=hD0vVOOcNLTGsQTZtICoDw&usg=AFQjCNG9pBIdes91lXiHDnz7PEKijOzitA&sig2=vDgd7Gd6C1oYcWodTC9a5g' with link or location/anchor > 255 characters since it exceeds Excel's limit for URLS\n",
      "  force_unicode(url))\n",
      "C:\\Users\\meech\\AppData\\Local\\Continuum\\anaconda3\\lib\\site-packages\\xlsxwriter\\worksheet.py:915: UserWarning: Ignoring URL 'http://www.reddit.com/r/news/comments/2jfwyp/another_ebola_case_inova_hospital_in_northern?sort=new\n",
      "\n",
      "Apparently%20this%20guy%20was%20an%20inmate%20and%20had%20come%20from%20W%20Africa%20within%20the%20past%2021%20days.%20Let's%20see%20if%20reddit%20is%20correct%20and%20beats%20the%20msm%20to%20the%20punch%20again.' with link or location/anchor > 255 characters since it exceeds Excel's limit for URLS\n",
      "  force_unicode(url))\n",
      "C:\\Users\\meech\\AppData\\Local\\Continuum\\anaconda3\\lib\\site-packages\\xlsxwriter\\worksheet.py:915: UserWarning: Ignoring URL 'http://stacks.cdc.gov/view/cdc/24900\n",
      "\n",
      "Makes sense, I guess, since it was government-funded. The spreadsheet seems limited in a lot of ways though. (Lack of very many variables, and I wonder how they are doing the PDE's.) This is their toolbox?\n",
      "\n",
      "When I offer 3 initial contacts for a population of 350,000,000, I see the S-curve maxing out at 8,000. Raising that initial number to ten maxes out the S-curve at 20,000. Take all with a teaspoon of salt. I haven't looked at their techniques yet.\n",
      "\n",
      "See also:\n",
      "\n",
      "http://www.cdc.gov/media/releases/2014/s0923-ebola-model-Factsheet.html\n",
      "\n",
      "http://www.cdc.gov/mmwr/preview/mmwrhtml/su6303a1.htm\n",
      "\n",
      "For an interesting alternative model to show you all the varieties of ways to model this outbreak, see, e.g., http://www.ploscompbiol.org/article/info%3Adoi%2F10.1371%2Fjournal.pcbi.1000984' with link or location/anchor > 255 characters since it exceeds Excel's limit for URLS\n",
      "  force_unicode(url))\n"
     ]
    }
   ],
   "source": [
    "reddit_ebola.to_excel(r'D:\\my_data\\ebola.xlsx', index = False)"
   ]
  },
  {
   "cell_type": "code",
   "execution_count": null,
   "metadata": {},
   "outputs": [],
   "source": []
  }
 ],
 "metadata": {
  "kernelspec": {
   "display_name": "Python 3",
   "language": "python",
   "name": "python3"
  },
  "language_info": {
   "codemirror_mode": {
    "name": "ipython",
    "version": 3
   },
   "file_extension": ".py",
   "mimetype": "text/x-python",
   "name": "python",
   "nbconvert_exporter": "python",
   "pygments_lexer": "ipython3",
   "version": "3.7.3"
  }
 },
 "nbformat": 4,
 "nbformat_minor": 2
}
