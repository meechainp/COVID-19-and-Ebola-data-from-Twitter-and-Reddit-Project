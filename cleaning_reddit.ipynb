{
 "cells": [
  {
   "cell_type": "markdown",
   "metadata": {},
   "source": [
    "## Cleaning Data  ข้อมูลที่มาจาก Reddit ##"
   ]
  },
  {
   "cell_type": "code",
   "execution_count": 1,
   "metadata": {},
   "outputs": [],
   "source": [
    "# import libary\n",
    "import pandas as pd"
   ]
  },
  {
   "cell_type": "code",
   "execution_count": 26,
   "metadata": {},
   "outputs": [],
   "source": [
    "# path to open file\n",
    "path_covid = 'D:/my_data/reddit_covid19.xlsx'\n",
    "path_ebola = 'D:/my_data/reddit_ebola.xlsx'"
   ]
  },
  {
   "cell_type": "code",
   "execution_count": 81,
   "metadata": {},
   "outputs": [],
   "source": [
    "# open file\n",
    "df_covid = pd.read_excel(path_covid)\n",
    "df_ebola = pd.read_excel(path_ebola)"
   ]
  },
  {
   "cell_type": "markdown",
   "metadata": {},
   "source": [
    "### ทำการตรวจสอบค่า missing value ###"
   ]
  },
  {
   "cell_type": "code",
   "execution_count": 28,
   "metadata": {
    "scrolled": false
   },
   "outputs": [
    {
     "name": "stdout",
     "output_type": "stream",
     "text": [
      "<class 'pandas.core.frame.DataFrame'>\n",
      "RangeIndex: 836 entries, 0 to 835\n",
      "Data columns (total 7 columns):\n",
      "title        836 non-null object\n",
      "score        836 non-null int64\n",
      "id           836 non-null object\n",
      "url          836 non-null object\n",
      "comms_num    836 non-null int64\n",
      "body         278 non-null object\n",
      "timestamp    836 non-null datetime64[ns]\n",
      "dtypes: datetime64[ns](1), int64(2), object(4)\n",
      "memory usage: 45.8+ KB\n"
     ]
    }
   ],
   "source": [
    "df_covid.info()"
   ]
  },
  {
   "cell_type": "code",
   "execution_count": 29,
   "metadata": {},
   "outputs": [
    {
     "data": {
      "text/plain": [
       "(836, 7)"
      ]
     },
     "execution_count": 29,
     "metadata": {},
     "output_type": "execute_result"
    }
   ],
   "source": [
    "df_covid.shape"
   ]
  },
  {
   "cell_type": "markdown",
   "metadata": {},
   "source": [
    "df_ebola.info()"
   ]
  },
  {
   "cell_type": "markdown",
   "metadata": {},
   "source": [
    "### ตัด column body ###"
   ]
  },
  {
   "cell_type": "code",
   "execution_count": 82,
   "metadata": {},
   "outputs": [],
   "source": [
    "df_covid = df_covid.drop(columns=['body'], axis=1)\n",
    "df_ebola = df_ebola.drop(columns=['body'], axis=1)"
   ]
  },
  {
   "cell_type": "code",
   "execution_count": 83,
   "metadata": {},
   "outputs": [
    {
     "name": "stdout",
     "output_type": "stream",
     "text": [
      "<class 'pandas.core.frame.DataFrame'>\n",
      "RangeIndex: 836 entries, 0 to 835\n",
      "Data columns (total 6 columns):\n",
      "title        836 non-null object\n",
      "score        836 non-null int64\n",
      "id           836 non-null object\n",
      "url          836 non-null object\n",
      "comms_num    836 non-null int64\n",
      "timestamp    836 non-null datetime64[ns]\n",
      "dtypes: datetime64[ns](1), int64(2), object(3)\n",
      "memory usage: 39.3+ KB\n"
     ]
    }
   ],
   "source": [
    "df_covid.info()"
   ]
  },
  {
   "cell_type": "code",
   "execution_count": 84,
   "metadata": {
    "scrolled": true
   },
   "outputs": [
    {
     "name": "stdout",
     "output_type": "stream",
     "text": [
      "<class 'pandas.core.frame.DataFrame'>\n",
      "RangeIndex: 1000 entries, 0 to 999\n",
      "Data columns (total 6 columns):\n",
      "title        1000 non-null object\n",
      "score        1000 non-null int64\n",
      "id           1000 non-null object\n",
      "url          1000 non-null object\n",
      "comms_num    1000 non-null int64\n",
      "timestamp    1000 non-null datetime64[ns]\n",
      "dtypes: datetime64[ns](1), int64(2), object(3)\n",
      "memory usage: 47.0+ KB\n"
     ]
    }
   ],
   "source": [
    "df_ebola.info()"
   ]
  },
  {
   "cell_type": "code",
   "execution_count": 33,
   "metadata": {},
   "outputs": [
    {
     "data": {
      "text/html": [
       "<div>\n",
       "<style scoped>\n",
       "    .dataframe tbody tr th:only-of-type {\n",
       "        vertical-align: middle;\n",
       "    }\n",
       "\n",
       "    .dataframe tbody tr th {\n",
       "        vertical-align: top;\n",
       "    }\n",
       "\n",
       "    .dataframe thead th {\n",
       "        text-align: right;\n",
       "    }\n",
       "</style>\n",
       "<table border=\"1\" class=\"dataframe\">\n",
       "  <thead>\n",
       "    <tr style=\"text-align: right;\">\n",
       "      <th></th>\n",
       "      <th>title</th>\n",
       "      <th>score</th>\n",
       "      <th>id</th>\n",
       "      <th>url</th>\n",
       "      <th>comms_num</th>\n",
       "      <th>timestamp</th>\n",
       "    </tr>\n",
       "  </thead>\n",
       "  <tbody>\n",
       "    <tr>\n",
       "      <th>0</th>\n",
       "      <td>Please consider downloading BOINC or folding@h...</td>\n",
       "      <td>2391</td>\n",
       "      <td>fd29vj</td>\n",
       "      <td>https://www.reddit.com/r/COVID19/comments/fd29...</td>\n",
       "      <td>1047</td>\n",
       "      <td>2020-03-04 12:56:00</td>\n",
       "    </tr>\n",
       "    <tr>\n",
       "      <th>1</th>\n",
       "      <td>CDC recommends cancelling or postponing all pu...</td>\n",
       "      <td>2184</td>\n",
       "      <td>fjbv0q</td>\n",
       "      <td>https://www.cdc.gov/coronavirus/2019-ncov/comm...</td>\n",
       "      <td>444</td>\n",
       "      <td>2020-03-16 15:35:00</td>\n",
       "    </tr>\n",
       "    <tr>\n",
       "      <th>2</th>\n",
       "      <td>“We were able to ascertain that patients who h...</td>\n",
       "      <td>1998</td>\n",
       "      <td>fkizd0</td>\n",
       "      <td>https://www.mediterranee-infection.com/wp-cont...</td>\n",
       "      <td>442</td>\n",
       "      <td>2020-03-18 18:33:00</td>\n",
       "    </tr>\n",
       "    <tr>\n",
       "      <th>3</th>\n",
       "      <td>Data from SARS outbreak showed that mask weari...</td>\n",
       "      <td>1795</td>\n",
       "      <td>ffy8av</td>\n",
       "      <td>https://www.cochranelibrary.com/cdsr/doi/10.10...</td>\n",
       "      <td>476</td>\n",
       "      <td>2020-03-10 08:26:00</td>\n",
       "    </tr>\n",
       "    <tr>\n",
       "      <th>4</th>\n",
       "      <td>Relationship between the ABO Blood Group and t...</td>\n",
       "      <td>1734</td>\n",
       "      <td>fjzjpc</td>\n",
       "      <td>https://www.medrxiv.org/content/10.1101/2020.0...</td>\n",
       "      <td>407</td>\n",
       "      <td>2020-03-17 20:05:00</td>\n",
       "    </tr>\n",
       "  </tbody>\n",
       "</table>\n",
       "</div>"
      ],
      "text/plain": [
       "                                               title  score      id  \\\n",
       "0  Please consider downloading BOINC or folding@h...   2391  fd29vj   \n",
       "1  CDC recommends cancelling or postponing all pu...   2184  fjbv0q   \n",
       "2  “We were able to ascertain that patients who h...   1998  fkizd0   \n",
       "3  Data from SARS outbreak showed that mask weari...   1795  ffy8av   \n",
       "4  Relationship between the ABO Blood Group and t...   1734  fjzjpc   \n",
       "\n",
       "                                                 url  comms_num  \\\n",
       "0  https://www.reddit.com/r/COVID19/comments/fd29...       1047   \n",
       "1  https://www.cdc.gov/coronavirus/2019-ncov/comm...        444   \n",
       "2  https://www.mediterranee-infection.com/wp-cont...        442   \n",
       "3  https://www.cochranelibrary.com/cdsr/doi/10.10...        476   \n",
       "4  https://www.medrxiv.org/content/10.1101/2020.0...        407   \n",
       "\n",
       "            timestamp  \n",
       "0 2020-03-04 12:56:00  \n",
       "1 2020-03-16 15:35:00  \n",
       "2 2020-03-18 18:33:00  \n",
       "3 2020-03-10 08:26:00  \n",
       "4 2020-03-17 20:05:00  "
      ]
     },
     "execution_count": 33,
     "metadata": {},
     "output_type": "execute_result"
    }
   ],
   "source": [
    "# ลองแสดงค่าในตาราง\n",
    "df_covid.head()"
   ]
  },
  {
   "cell_type": "code",
   "execution_count": 34,
   "metadata": {},
   "outputs": [
    {
     "data": {
      "text/html": [
       "<div>\n",
       "<style scoped>\n",
       "    .dataframe tbody tr th:only-of-type {\n",
       "        vertical-align: middle;\n",
       "    }\n",
       "\n",
       "    .dataframe tbody tr th {\n",
       "        vertical-align: top;\n",
       "    }\n",
       "\n",
       "    .dataframe thead th {\n",
       "        text-align: right;\n",
       "    }\n",
       "</style>\n",
       "<table border=\"1\" class=\"dataframe\">\n",
       "  <thead>\n",
       "    <tr style=\"text-align: right;\">\n",
       "      <th></th>\n",
       "      <th>title</th>\n",
       "      <th>score</th>\n",
       "      <th>id</th>\n",
       "      <th>url</th>\n",
       "      <th>comms_num</th>\n",
       "      <th>timestamp</th>\n",
       "    </tr>\n",
       "  </thead>\n",
       "  <tbody>\n",
       "    <tr>\n",
       "      <th>0</th>\n",
       "      <td>I met 25-year-old Moses Massaquoi today. He's ...</td>\n",
       "      <td>1956</td>\n",
       "      <td>2jg459</td>\n",
       "      <td>http://i.imgur.com/kLhaux5.jpg</td>\n",
       "      <td>129</td>\n",
       "      <td>2014-10-17 10:43:00</td>\n",
       "    </tr>\n",
       "    <tr>\n",
       "      <th>1</th>\n",
       "      <td>Ebola survivor Christopher, 43, washes blue pa...</td>\n",
       "      <td>1738</td>\n",
       "      <td>2jii6m</td>\n",
       "      <td>http://i.imgur.com/eEhQPJu.jpg</td>\n",
       "      <td>91</td>\n",
       "      <td>2014-10-18 04:12:00</td>\n",
       "    </tr>\n",
       "    <tr>\n",
       "      <th>2</th>\n",
       "      <td>Yesterday I showed you the ebola kit on our IC...</td>\n",
       "      <td>1293</td>\n",
       "      <td>2jeilp</td>\n",
       "      <td>http://imgur.com/a/ZQWR4</td>\n",
       "      <td>493</td>\n",
       "      <td>2014-10-17 00:05:00</td>\n",
       "    </tr>\n",
       "    <tr>\n",
       "      <th>3</th>\n",
       "      <td>outside an Ebola hospital, guy pulls a mattres...</td>\n",
       "      <td>995</td>\n",
       "      <td>2j7j4s</td>\n",
       "      <td>http://i.imgur.com/19857Nm.jpg</td>\n",
       "      <td>251</td>\n",
       "      <td>2014-10-15 02:59:00</td>\n",
       "    </tr>\n",
       "    <tr>\n",
       "      <th>4</th>\n",
       "      <td>NYC Doctor tests positive for ebola</td>\n",
       "      <td>747</td>\n",
       "      <td>2k5fkp</td>\n",
       "      <td>http://www.nytimes.com/2014/10/24/nyregion/cra...</td>\n",
       "      <td>822</td>\n",
       "      <td>2014-10-24 15:30:00</td>\n",
       "    </tr>\n",
       "  </tbody>\n",
       "</table>\n",
       "</div>"
      ],
      "text/plain": [
       "                                               title  score      id  \\\n",
       "0  I met 25-year-old Moses Massaquoi today. He's ...   1956  2jg459   \n",
       "1  Ebola survivor Christopher, 43, washes blue pa...   1738  2jii6m   \n",
       "2  Yesterday I showed you the ebola kit on our IC...   1293  2jeilp   \n",
       "3  outside an Ebola hospital, guy pulls a mattres...    995  2j7j4s   \n",
       "4                NYC Doctor tests positive for ebola    747  2k5fkp   \n",
       "\n",
       "                                                 url  comms_num  \\\n",
       "0                     http://i.imgur.com/kLhaux5.jpg        129   \n",
       "1                     http://i.imgur.com/eEhQPJu.jpg         91   \n",
       "2                           http://imgur.com/a/ZQWR4        493   \n",
       "3                     http://i.imgur.com/19857Nm.jpg        251   \n",
       "4  http://www.nytimes.com/2014/10/24/nyregion/cra...        822   \n",
       "\n",
       "            timestamp  \n",
       "0 2014-10-17 10:43:00  \n",
       "1 2014-10-18 04:12:00  \n",
       "2 2014-10-17 00:05:00  \n",
       "3 2014-10-15 02:59:00  \n",
       "4 2014-10-24 15:30:00  "
      ]
     },
     "execution_count": 34,
     "metadata": {},
     "output_type": "execute_result"
    }
   ],
   "source": [
    "df_ebola.head()"
   ]
  },
  {
   "cell_type": "markdown",
   "metadata": {},
   "source": [
    "### ทำการลบ อักขระต่างๆ ออกจาก column title ###"
   ]
  },
  {
   "cell_type": "code",
   "execution_count": 89,
   "metadata": {},
   "outputs": [],
   "source": [
    "import string\n",
    "import re"
   ]
  },
  {
   "cell_type": "code",
   "execution_count": 91,
   "metadata": {
    "scrolled": true
   },
   "outputs": [
    {
     "data": {
      "text/plain": [
       "'!\"#$%&\\'()*+,-./:;<=>?@[\\\\]^_`{|}~'"
      ]
     },
     "execution_count": 91,
     "metadata": {},
     "output_type": "execute_result"
    }
   ],
   "source": [
    "string.punctuation"
   ]
  },
  {
   "cell_type": "code",
   "execution_count": 92,
   "metadata": {},
   "outputs": [],
   "source": [
    "# สร้าง function เพื่อลับอักขระต่างๆ\n",
    "def remove_punct(text):\n",
    "    text  = \"\".join([char for char in text if char not in string.punctuation])\n",
    "    text = re.sub('[0-9]+', '', text)\n",
    "    return text\n"
   ]
  },
  {
   "cell_type": "code",
   "execution_count": 105,
   "metadata": {},
   "outputs": [],
   "source": [
    "# call function remove_punct\n",
    "df_covid.title = df_covid.title.apply(lambda x : remove_punct(x))\n",
    "df_ebola.title = df_ebola.title.apply(lambda x : remove_punct(x))"
   ]
  },
  {
   "cell_type": "code",
   "execution_count": 119,
   "metadata": {},
   "outputs": [],
   "source": [
    "# ลบเครื่องหมายคำพูด\n",
    "df_covid.title = df_covid.title.str.replace('“','').str.replace('”','')\n",
    "df_ebola.title = df_ebola.title.str.replace('“','').str.replace('”','')"
   ]
  },
  {
   "cell_type": "code",
   "execution_count": 122,
   "metadata": {
    "scrolled": true
   },
   "outputs": [
    {
     "data": {
      "text/plain": [
       "0    Please consider downloading BOINC or foldingho...\n",
       "1    CDC recommends cancelling or postponing all pu...\n",
       "2    We were able to ascertain that patients who ha...\n",
       "3    Data from SARS outbreak showed that mask weari...\n",
       "4    Relationship between the ABO Blood Group and t...\n",
       "Name: title, dtype: object"
      ]
     },
     "execution_count": 122,
     "metadata": {},
     "output_type": "execute_result"
    }
   ],
   "source": [
    "df_covid.title.head()"
   ]
  },
  {
   "cell_type": "code",
   "execution_count": 112,
   "metadata": {},
   "outputs": [
    {
     "data": {
      "text/plain": [
       "0    I met yearold Moses Massaquoi today Hes a hyge...\n",
       "1    Ebola survivor Christopher  washes blue paint ...\n",
       "2    Yesterday I showed you the ebola kit on our IC...\n",
       "3    outside an Ebola hospital guy pulls a mattress...\n",
       "4                  NYC Doctor tests positive for ebola\n",
       "Name: title, dtype: object"
      ]
     },
     "execution_count": 112,
     "metadata": {},
     "output_type": "execute_result"
    }
   ],
   "source": [
    "df_ebola.title.head()"
   ]
  },
  {
   "cell_type": "code",
   "execution_count": 116,
   "metadata": {},
   "outputs": [
    {
     "data": {
      "text/plain": [
       "(836, 6)"
      ]
     },
     "execution_count": 116,
     "metadata": {},
     "output_type": "execute_result"
    }
   ],
   "source": [
    "# ดูจำนวน Row, column\n",
    "df_covid.shape"
   ]
  },
  {
   "cell_type": "code",
   "execution_count": 117,
   "metadata": {},
   "outputs": [
    {
     "data": {
      "text/plain": [
       "(1000, 6)"
      ]
     },
     "execution_count": 117,
     "metadata": {},
     "output_type": "execute_result"
    }
   ],
   "source": [
    "# ดูจำนวน Row, column\n",
    "df_ebola.shape"
   ]
  },
  {
   "cell_type": "markdown",
   "metadata": {},
   "source": [
    "### ทำการ export ลงเครื่อง ###"
   ]
  },
  {
   "cell_type": "code",
   "execution_count": 123,
   "metadata": {},
   "outputs": [
    {
     "name": "stderr",
     "output_type": "stream",
     "text": [
      "C:\\Users\\meech\\AppData\\Local\\Continuum\\anaconda3\\lib\\site-packages\\xlsxwriter\\worksheet.py:915: UserWarning: Ignoring URL 'https://jamanetwork.com/journals/jama/fullarticle/2762028%20This%20tied%20to%20other%20initial%20research%20is%20of%20concern.%20This%20article%20on%20Children%20https://academic.oup.com/cid/advance-article/doi/10.1093/cid/ciaa198/5766430%20who%20were%20hospitalized%20is%20also%20revealing.%20The%20extremely%20mild%20case%20presentation%20in%20this%20limited%20set%20of%20cases%20and%20the%20implied%20population%20of%20children%20NOT%20hospitalized%20needs%20further%20study%20including%20a%20better%20understanding%20of%20seroprevalence%20in%20children%20utilizing%20serologic%20data%20and/or%20case%20specific%20information%20on%20adult%20cases%20in%20relation%20to%20their%20contact%20with%20children%20where%20other%20potential%20exposures%20can%20be%20excluded.%20%20This%20may%20or%20may%20not%20be%20practical.' with link or location/anchor > 255 characters since it exceeds Excel's limit for URLS\n",
      "  force_unicode(url))\n",
      "C:\\Users\\meech\\AppData\\Local\\Continuum\\anaconda3\\lib\\site-packages\\xlsxwriter\\worksheet.py:915: UserWarning: Ignoring URL 'https://www.researchgate.net/profile/Jianqing_Wang/publication/339243337_ACE2_Expression_in_Kidney_and_Testis_May_Cause_Kidney_and_Testis_Damage_After_2019-nCoV_Infection/links/5e4bb6be299bf1cdb933e804/ACE2-Expression-in-Kidney-and-Testis-May-Cause-Kidney-and-Testis-Damage-After-2019-nCoV-Infection.pdf' with link or location/anchor > 255 characters since it exceeds Excel's limit for URLS\n",
      "  force_unicode(url))\n",
      "C:\\Users\\meech\\AppData\\Local\\Continuum\\anaconda3\\lib\\site-packages\\xlsxwriter\\worksheet.py:915: UserWarning: Ignoring URL 'https://www.nature.com/articles/s41591-020-0820-9?utm_source=fbk_nnc&utm_medium=social&utm_campaign=naturenews&utm_medium=social&utm_content=organic&utm_source=facebook&utm_campaign=NatureNews_&sf231597135=1&fbclid=IwAR1sK_7p7J1Djx8ZkEt3k4ARraMmC_2tDLyhTdfVBwmQANa6j9cr19qfCoM' with link or location/anchor > 255 characters since it exceeds Excel's limit for URLS\n",
      "  force_unicode(url))\n",
      "C:\\Users\\meech\\AppData\\Local\\Continuum\\anaconda3\\lib\\site-packages\\xlsxwriter\\worksheet.py:915: UserWarning: Ignoring URL 'https://www.google.com/url?sa=t&rct=j&q=&esrc=s&source=newssearch&cd=1&cad=rja&uact=8&ved=0CB0QqQIoADAA&url=http%3A%2F%2Ffox13now.com%2F2014%2F10%2F03%2Fprimary-childrens-hospital-confirms-patient-does-not-have-ebola%2F&ei=hD0vVOOcNLTGsQTZtICoDw&usg=AFQjCNG9pBIdes91lXiHDnz7PEKijOzitA&sig2=vDgd7Gd6C1oYcWodTC9a5g' with link or location/anchor > 255 characters since it exceeds Excel's limit for URLS\n",
      "  force_unicode(url))\n"
     ]
    }
   ],
   "source": [
    "df_covid.to_excel(r'D:\\my_data\\clean\\reddit_covid_en_cleaned.xlsx', encoding='utf-8-sig', index = False)\n",
    "df_ebola.to_excel(r'D:\\my_data\\clean\\reddit_ebola_en_cleaned.xlsx', encoding='utf-8-sig', index = False)"
   ]
  },
  {
   "cell_type": "code",
   "execution_count": null,
   "metadata": {},
   "outputs": [],
   "source": []
  }
 ],
 "metadata": {
  "kernelspec": {
   "display_name": "Python 3",
   "language": "python",
   "name": "python3"
  },
  "language_info": {
   "codemirror_mode": {
    "name": "ipython",
    "version": 3
   },
   "file_extension": ".py",
   "mimetype": "text/x-python",
   "name": "python",
   "nbconvert_exporter": "python",
   "pygments_lexer": "ipython3",
   "version": "3.7.3"
  }
 },
 "nbformat": 4,
 "nbformat_minor": 2
}
