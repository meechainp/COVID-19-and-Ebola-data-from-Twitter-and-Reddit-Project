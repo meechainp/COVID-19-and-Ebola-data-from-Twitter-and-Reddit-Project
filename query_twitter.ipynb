{
 "cells": [
  {
   "cell_type": "markdown",
   "metadata": {},
   "source": [
    "# Query ข้อมูลโรคต่างๆ จาก Twitter#\n"
   ]
  },
  {
   "cell_type": "markdown",
   "metadata": {},
   "source": [
    "### import libary ที่ต้องใช้ ###"
   ]
  },
  {
   "cell_type": "code",
   "execution_count": 77,
   "metadata": {
    "scrolled": false
   },
   "outputs": [
    {
     "name": "stdout",
     "output_type": "stream",
     "text": [
      "Requirement already satisfied: tweepy in c:\\users\\meech\\appdata\\local\\continuum\\anaconda3\\lib\\site-packages (3.8.0)\n",
      "Requirement already satisfied: PySocks>=1.5.7 in c:\\users\\meech\\appdata\\local\\continuum\\anaconda3\\lib\\site-packages (from tweepy) (1.7.0)\n",
      "Requirement already satisfied: requests-oauthlib>=0.7.0 in c:\\users\\meech\\appdata\\local\\continuum\\anaconda3\\lib\\site-packages (from tweepy) (1.3.0)\n",
      "Requirement already satisfied: requests>=2.11.1 in c:\\users\\meech\\appdata\\local\\continuum\\anaconda3\\lib\\site-packages (from tweepy) (2.22.0)\n",
      "Requirement already satisfied: six>=1.10.0 in c:\\users\\meech\\appdata\\local\\continuum\\anaconda3\\lib\\site-packages (from tweepy) (1.12.0)\n",
      "Requirement already satisfied: oauthlib>=3.0.0 in c:\\users\\meech\\appdata\\local\\continuum\\anaconda3\\lib\\site-packages (from requests-oauthlib>=0.7.0->tweepy) (3.1.0)\n",
      "Requirement already satisfied: certifi>=2017.4.17 in c:\\users\\meech\\appdata\\local\\continuum\\anaconda3\\lib\\site-packages (from requests>=2.11.1->tweepy) (2019.6.16)\n",
      "Requirement already satisfied: chardet<3.1.0,>=3.0.2 in c:\\users\\meech\\appdata\\local\\continuum\\anaconda3\\lib\\site-packages (from requests>=2.11.1->tweepy) (3.0.4)\n",
      "Requirement already satisfied: urllib3!=1.25.0,!=1.25.1,<1.26,>=1.21.1 in c:\\users\\meech\\appdata\\local\\continuum\\anaconda3\\lib\\site-packages (from requests>=2.11.1->tweepy) (1.24.2)\n",
      "Requirement already satisfied: idna<2.9,>=2.5 in c:\\users\\meech\\appdata\\local\\continuum\\anaconda3\\lib\\site-packages (from requests>=2.11.1->tweepy) (2.8)\n",
      "Note: you may need to restart the kernel to use updated packages.\n"
     ]
    }
   ],
   "source": [
    "pip install tweepy"
   ]
  },
  {
   "cell_type": "code",
   "execution_count": 114,
   "metadata": {},
   "outputs": [],
   "source": [
    "import os\n",
    "import tweepy as tw\n",
    "import pandas as pd"
   ]
  },
  {
   "cell_type": "markdown",
   "metadata": {},
   "source": [
    "#### Keys and Access Tokens ####\n",
    "    * consumer_key       = '",
    "    * consumer_secret    = '",
    "    * access_token       = '",
    "    * access_token_secret= ''"
   ]
  },
  {
   "cell_type": "code",
   "execution_count": 1,
   "metadata": {},
   "outputs": [],
   "source": [
    "#Keys and Access Tokens\n",
    "consumer_key       = ''\n",
    "consumer_secret    = ''\n",
    "access_token       = ''\n",
    "access_token_secret= ''"
   ]
  },
  {
   "cell_type": "code",
   "execution_count": 116,
   "metadata": {},
   "outputs": [],
   "source": [
    "auth = tw.OAuthHandler(consumer_key, consumer_secret)\n",
    "auth.set_access_token(access_token, access_token_secret)\n",
    "api = tw.API(auth, wait_on_rate_limit=True)"
   ]
  },
  {
   "cell_type": "markdown",
   "metadata": {},
   "source": [
    "### สร้าง function เพื่อค้นหา # และเก็บเป็น Dataframe ###"
   ]
  },
  {
   "cell_type": "code",
   "execution_count": 82,
   "metadata": {},
   "outputs": [],
   "source": [
    "def search_tweets(language, hashtag, date, number):\n",
    "    \n",
    "    # Define the search term and the date_since date as variables\n",
    "    search_words = hashtag\n",
    "    date_since = date\n",
    "    new_search = search_words + \" -filter:retweets\" # Do not get retweet of tweets\n",
    "    \n",
    "    \n",
    "    # Collect tweets\n",
    "    tweets = tw.Cursor(api.search, q=new_search, lang=language, since=date_since  ).items(number)\n",
    "\n",
    "    users_locs = [[tweet.user.id_str, tweet.user.screen_name, tweet.user.location, \n",
    "                    tweet.created_at, tweet.text, tweet.user.followers_count, \n",
    "                    tweet.retweet_count, tweet.favorite_count] for tweet in tweets]\n",
    "    \n",
    "    \n",
    "    # To Dataframe\n",
    "    tweet_text = pd.DataFrame(data=users_locs, columns=[ 'Id', 'username', 'location','time_stamp', \n",
    "                                                        'text', 'followers_count', 'retweet_count', \n",
    "                                                        'favorite_count'])\n",
    "    \n",
    "    \n",
    "    # return Dataframe\n",
    "    return tweet_text "
   ]
  },
  {
   "cell_type": "markdown",
   "metadata": {},
   "source": [
    "#### ทำการค้นหา hashtag และ export ข้อมูลลงเครื่อง ####"
   ]
  },
  {
   "cell_type": "markdown",
   "metadata": {},
   "source": [
    "### Covid-19 ###"
   ]
  },
  {
   "cell_type": "code",
   "execution_count": 5,
   "metadata": {},
   "outputs": [],
   "source": [
    "# Call function search_tweets\n",
    "covid19_en = search_tweets('en', '#COVID19', '2020-01-01', 2000)"
   ]
  },
  {
   "cell_type": "code",
   "execution_count": 23,
   "metadata": {},
   "outputs": [],
   "source": [
    "# Export Dataframe to Excel file\n",
    "covid19_en.to_excel(r'D:\\my_data\\covid19_en.xlsxv', encoding='utf-8-sig', index = False)"
   ]
  },
  {
   "cell_type": "code",
   "execution_count": 57,
   "metadata": {},
   "outputs": [
    {
     "data": {
      "text/plain": [
       "(2000, 8)"
      ]
     },
     "execution_count": 57,
     "metadata": {},
     "output_type": "execute_result"
    }
   ],
   "source": [
    "covid19_en.shape"
   ]
  },
  {
   "cell_type": "code",
   "execution_count": 12,
   "metadata": {},
   "outputs": [],
   "source": [
    "covid19_th = search_tweets('th', '#โควิด19', '2020-01-01', 2000)"
   ]
  },
  {
   "cell_type": "code",
   "execution_count": 21,
   "metadata": {},
   "outputs": [],
   "source": [
    "# Export Dataframe to Excel file\n",
    "covid19_th.to_excel(r'D:\\my_data\\covid19_th.xlsx', encoding='utf-8-sig', index = False)"
   ]
  },
  {
   "cell_type": "code",
   "execution_count": 56,
   "metadata": {
    "scrolled": true
   },
   "outputs": [
    {
     "data": {
      "text/plain": [
       "(2000, 8)"
      ]
     },
     "execution_count": 56,
     "metadata": {},
     "output_type": "execute_result"
    }
   ],
   "source": [
    "covid19_th.shape"
   ]
  },
  {
   "cell_type": "code",
   "execution_count": 129,
   "metadata": {},
   "outputs": [
    {
     "data": {
      "text/html": [
       "<div>\n",
       "<style scoped>\n",
       "    .dataframe tbody tr th:only-of-type {\n",
       "        vertical-align: middle;\n",
       "    }\n",
       "\n",
       "    .dataframe tbody tr th {\n",
       "        vertical-align: top;\n",
       "    }\n",
       "\n",
       "    .dataframe thead th {\n",
       "        text-align: right;\n",
       "    }\n",
       "</style>\n",
       "<table border=\"1\" class=\"dataframe\">\n",
       "  <thead>\n",
       "    <tr style=\"text-align: right;\">\n",
       "      <th></th>\n",
       "      <th>Id</th>\n",
       "      <th>username</th>\n",
       "      <th>location</th>\n",
       "      <th>time_stamp</th>\n",
       "      <th>text</th>\n",
       "      <th>followers_count</th>\n",
       "      <th>retweet_count</th>\n",
       "      <th>favorite_count</th>\n",
       "    </tr>\n",
       "  </thead>\n",
       "  <tbody>\n",
       "    <tr>\n",
       "      <th>0</th>\n",
       "      <td>362503379</td>\n",
       "      <td>Purebloodsz</td>\n",
       "      <td></td>\n",
       "      <td>2020-03-19 07:57:29</td>\n",
       "      <td>ว่าแต่เทรนเนอร์ที่ไหนเนี้ย แล้วก่อนหน้านี้เค้า...</td>\n",
       "      <td>38309</td>\n",
       "      <td>0</td>\n",
       "      <td>0</td>\n",
       "    </tr>\n",
       "    <tr>\n",
       "      <th>1</th>\n",
       "      <td>856823519107317760</td>\n",
       "      <td>proxumer</td>\n",
       "      <td>Bangkok, Thailand</td>\n",
       "      <td>2020-03-19 07:57:25</td>\n",
       "      <td>COVID -19 ไข้หวัด หรือภูมิแพ้ 😷 แต่เราสามารถ #...</td>\n",
       "      <td>5781</td>\n",
       "      <td>0</td>\n",
       "      <td>0</td>\n",
       "    </tr>\n",
       "    <tr>\n",
       "      <th>2</th>\n",
       "      <td>723891243340587010</td>\n",
       "      <td>whathcn</td>\n",
       "      <td></td>\n",
       "      <td>2020-03-19 07:57:05</td>\n",
       "      <td>ขาย 📍📍📍📍📍 พึ่งสมัครวันนี้ค่ะ 19/3/63\\nแพ็กเกจ ...</td>\n",
       "      <td>0</td>\n",
       "      <td>0</td>\n",
       "      <td>0</td>\n",
       "    </tr>\n",
       "    <tr>\n",
       "      <th>3</th>\n",
       "      <td>1116699085166145537</td>\n",
       "      <td>sorkorlao</td>\n",
       "      <td></td>\n",
       "      <td>2020-03-19 07:57:03</td>\n",
       "      <td>คนไทยค้องช่วยกัน \\n\\nอย่าหวังพึ่งพาลุง\\n\\n#โคว...</td>\n",
       "      <td>39917</td>\n",
       "      <td>0</td>\n",
       "      <td>0</td>\n",
       "    </tr>\n",
       "    <tr>\n",
       "      <th>4</th>\n",
       "      <td>2479547882</td>\n",
       "      <td>BrightTodayTh</td>\n",
       "      <td>Bangkok</td>\n",
       "      <td>2020-03-19 07:56:56</td>\n",
       "      <td>สาธารณสุข แถลงสถานการณ์ โรคโควิด-19 วันที่ 19 ...</td>\n",
       "      <td>41058</td>\n",
       "      <td>1</td>\n",
       "      <td>0</td>\n",
       "    </tr>\n",
       "  </tbody>\n",
       "</table>\n",
       "</div>"
      ],
      "text/plain": [
       "                    Id       username           location          time_stamp  \\\n",
       "0            362503379    Purebloodsz                    2020-03-19 07:57:29   \n",
       "1   856823519107317760       proxumer  Bangkok, Thailand 2020-03-19 07:57:25   \n",
       "2   723891243340587010        whathcn                    2020-03-19 07:57:05   \n",
       "3  1116699085166145537      sorkorlao                    2020-03-19 07:57:03   \n",
       "4           2479547882  BrightTodayTh            Bangkok 2020-03-19 07:56:56   \n",
       "\n",
       "                                                text  followers_count  \\\n",
       "0  ว่าแต่เทรนเนอร์ที่ไหนเนี้ย แล้วก่อนหน้านี้เค้า...            38309   \n",
       "1  COVID -19 ไข้หวัด หรือภูมิแพ้ 😷 แต่เราสามารถ #...             5781   \n",
       "2  ขาย 📍📍📍📍📍 พึ่งสมัครวันนี้ค่ะ 19/3/63\\nแพ็กเกจ ...                0   \n",
       "3  คนไทยค้องช่วยกัน \\n\\nอย่าหวังพึ่งพาลุง\\n\\n#โคว...            39917   \n",
       "4  สาธารณสุข แถลงสถานการณ์ โรคโควิด-19 วันที่ 19 ...            41058   \n",
       "\n",
       "   retweet_count  favorite_count  \n",
       "0              0               0  \n",
       "1              0               0  \n",
       "2              0               0  \n",
       "3              0               0  \n",
       "4              1               0  "
      ]
     },
     "execution_count": 129,
     "metadata": {},
     "output_type": "execute_result"
    }
   ],
   "source": [
    "covid19_th.head()"
   ]
  },
  {
   "cell_type": "markdown",
   "metadata": {},
   "source": [
    "### Ebola ###"
   ]
  },
  {
   "cell_type": "code",
   "execution_count": 22,
   "metadata": {},
   "outputs": [],
   "source": [
    " #Ebola \n",
    "ebola_en = search_tweets('en', ' #Ebola ', '2014-01-01', 2000)"
   ]
  },
  {
   "cell_type": "code",
   "execution_count": 127,
   "metadata": {},
   "outputs": [],
   "source": [
    "# Export Dataframe to Excel file\n",
    "ebola_en.to_excel(r'D:\\my_data\\ebola_en.xlsx', encoding='utf-8-sig', index = False)"
   ]
  },
  {
   "cell_type": "code",
   "execution_count": 54,
   "metadata": {},
   "outputs": [
    {
     "data": {
      "text/plain": [
       "(2000, 8)"
      ]
     },
     "execution_count": 54,
     "metadata": {},
     "output_type": "execute_result"
    }
   ],
   "source": [
    "ebola_en.shape"
   ]
  },
  {
   "cell_type": "code",
   "execution_count": 111,
   "metadata": {},
   "outputs": [
    {
     "data": {
      "text/html": [
       "<div>\n",
       "<style scoped>\n",
       "    .dataframe tbody tr th:only-of-type {\n",
       "        vertical-align: middle;\n",
       "    }\n",
       "\n",
       "    .dataframe tbody tr th {\n",
       "        vertical-align: top;\n",
       "    }\n",
       "\n",
       "    .dataframe thead th {\n",
       "        text-align: right;\n",
       "    }\n",
       "</style>\n",
       "<table border=\"1\" class=\"dataframe\">\n",
       "  <thead>\n",
       "    <tr style=\"text-align: right;\">\n",
       "      <th></th>\n",
       "      <th>Id</th>\n",
       "      <th>username</th>\n",
       "      <th>location</th>\n",
       "      <th>time_stamp</th>\n",
       "      <th>text</th>\n",
       "      <th>followers_count</th>\n",
       "      <th>retweet_count</th>\n",
       "      <th>favorite_count</th>\n",
       "    </tr>\n",
       "  </thead>\n",
       "  <tbody>\n",
       "    <tr>\n",
       "      <th>0</th>\n",
       "      <td>1024331753941622784</td>\n",
       "      <td>MDMEDICINE1</td>\n",
       "      <td>United Arab Emirates</td>\n",
       "      <td>2020-03-19 08:55:08</td>\n",
       "      <td>@WHO #pandemic expert @DrMikeRyan: “what we le...</td>\n",
       "      <td>47</td>\n",
       "      <td>1</td>\n",
       "      <td>1</td>\n",
       "    </tr>\n",
       "    <tr>\n",
       "      <th>1</th>\n",
       "      <td>853736260397084674</td>\n",
       "      <td>BeeNewsDaily</td>\n",
       "      <td>United States</td>\n",
       "      <td>2020-03-19 08:55:07</td>\n",
       "      <td>#KungFlu, #KungFuTea,  and #Ebola are not raci...</td>\n",
       "      <td>4161</td>\n",
       "      <td>1</td>\n",
       "      <td>1</td>\n",
       "    </tr>\n",
       "    <tr>\n",
       "      <th>2</th>\n",
       "      <td>1024331753941622784</td>\n",
       "      <td>MDMEDICINE1</td>\n",
       "      <td>United Arab Emirates</td>\n",
       "      <td>2020-03-19 08:45:31</td>\n",
       "      <td>@WHO #pandemic expert @DrMikeRyan: “What we le...</td>\n",
       "      <td>47</td>\n",
       "      <td>0</td>\n",
       "      <td>0</td>\n",
       "    </tr>\n",
       "    <tr>\n",
       "      <th>3</th>\n",
       "      <td>3402412635</td>\n",
       "      <td>ADFmagazine</td>\n",
       "      <td>Africa</td>\n",
       "      <td>2020-03-19 08:45:08</td>\n",
       "      <td>#SierraLeone President Bio engages members of ...</td>\n",
       "      <td>374</td>\n",
       "      <td>0</td>\n",
       "      <td>0</td>\n",
       "    </tr>\n",
       "    <tr>\n",
       "      <th>4</th>\n",
       "      <td>18754412</td>\n",
       "      <td>MacJordaN</td>\n",
       "      <td>ACC/YFB/YEG/SFO/NBO/YYZ</td>\n",
       "      <td>2020-03-19 08:43:18</td>\n",
       "      <td>Update from #Liberia 🇱🇷: \\n\\nThe country is ap...</td>\n",
       "      <td>16928</td>\n",
       "      <td>0</td>\n",
       "      <td>1</td>\n",
       "    </tr>\n",
       "  </tbody>\n",
       "</table>\n",
       "</div>"
      ],
      "text/plain": [
       "                    Id      username                 location  \\\n",
       "0  1024331753941622784   MDMEDICINE1     United Arab Emirates   \n",
       "1   853736260397084674  BeeNewsDaily            United States   \n",
       "2  1024331753941622784   MDMEDICINE1     United Arab Emirates   \n",
       "3           3402412635   ADFmagazine                   Africa   \n",
       "4             18754412     MacJordaN  ACC/YFB/YEG/SFO/NBO/YYZ   \n",
       "\n",
       "           time_stamp                                               text  \\\n",
       "0 2020-03-19 08:55:08  @WHO #pandemic expert @DrMikeRyan: “what we le...   \n",
       "1 2020-03-19 08:55:07  #KungFlu, #KungFuTea,  and #Ebola are not raci...   \n",
       "2 2020-03-19 08:45:31  @WHO #pandemic expert @DrMikeRyan: “What we le...   \n",
       "3 2020-03-19 08:45:08  #SierraLeone President Bio engages members of ...   \n",
       "4 2020-03-19 08:43:18  Update from #Liberia 🇱🇷: \\n\\nThe country is ap...   \n",
       "\n",
       "   followers_count  retweet_count  favorite_count  \n",
       "0               47              1               1  \n",
       "1             4161              1               1  \n",
       "2               47              0               0  \n",
       "3              374              0               0  \n",
       "4            16928              0               1  "
      ]
     },
     "execution_count": 111,
     "metadata": {},
     "output_type": "execute_result"
    }
   ],
   "source": [
    "ebola_en.head()"
   ]
  },
  {
   "cell_type": "code",
   "execution_count": null,
   "metadata": {},
   "outputs": [],
   "source": []
  }
 ],
 "metadata": {
  "kernelspec": {
   "display_name": "Python 3",
   "language": "python",
   "name": "python3"
  },
  "language_info": {
   "codemirror_mode": {
    "name": "ipython",
    "version": 3
   },
   "file_extension": ".py",
   "mimetype": "text/x-python",
   "name": "python",
   "nbconvert_exporter": "python",
   "pygments_lexer": "ipython3",
   "version": "3.7.3"
  }
 },
 "nbformat": 4,
 "nbformat_minor": 2
}
